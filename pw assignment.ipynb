{
 "cells": [
  {
   "cell_type": "code",
   "execution_count": 23,
   "id": "e70b430e",
   "metadata": {},
   "outputs": [],
   "source": [
    "Q1. Create a python program to sort the given list of tuples based on integer value using a  lambda function.  \n",
    "a=[('Sachin Tendulkar', 34357), ('Ricky Ponting', 27483), ('Jack Kallis', 25534), ('Virat Kohli', 24936)]\n"
   ]
  },
  {
   "cell_type": "code",
   "execution_count": 25,
   "id": "704911eb",
   "metadata": {},
   "outputs": [],
   "source": [
    "sor=sorted(a,key= lambda x:x[1])"
   ]
  },
  {
   "cell_type": "code",
   "execution_count": 26,
   "id": "96be5b9a",
   "metadata": {},
   "outputs": [
    {
     "name": "stdout",
     "output_type": "stream",
     "text": [
      "[('Virat Kohli', 24936), ('Jack Kallis', 25534), ('Ricky Ponting', 27483), ('Sachin Tendulkar', 34357)]\n"
     ]
    }
   ],
   "source": [
    "print(sor)"
   ]
  },
  {
   "cell_type": "code",
   "execution_count": 32,
   "id": "2942a151",
   "metadata": {},
   "outputs": [],
   "source": [
    "key=lambda x:x[1]"
   ]
  },
  {
   "cell_type": "code",
   "execution_count": 33,
   "id": "1e9fcf9e",
   "metadata": {},
   "outputs": [
    {
     "name": "stdout",
     "output_type": "stream",
     "text": [
      "<function <lambda> at 0x0000029DD04B61F0>\n"
     ]
    }
   ],
   "source": [
    "print(key)"
   ]
  },
  {
   "cell_type": "code",
   "execution_count": 35,
   "id": "711da369",
   "metadata": {},
   "outputs": [],
   "source": [
    "##Q2. Write a Python Program to find the squares of all the numbers in the given list of integers using  lambda and map functions. \n",
    "a=[1, 2, 3, 4, 5, 6, 7, 8, 9, 10] \n"
   ]
  },
  {
   "cell_type": "code",
   "execution_count": 36,
   "id": "822457cc",
   "metadata": {},
   "outputs": [
    {
     "data": {
      "text/plain": [
       "[1, 4, 9, 16, 25, 36, 49, 64, 81, 100]"
      ]
     },
     "execution_count": 36,
     "metadata": {},
     "output_type": "execute_result"
    }
   ],
   "source": [
    "list(map(lambda x:x**2,a))"
   ]
  },
  {
   "cell_type": "code",
   "execution_count": null,
   "id": "b40a6c2b",
   "metadata": {},
   "outputs": [],
   "source": [
    "Q3. Write a python program to convert the given list of integers into a tuple of strings. Use map and  lambda functions \n",
    "Given String: [1, 2, 3, 4, 5, 6, 7, 8, 9, 10] \n",
    "Expected output: ('1', '2', '3', '4', '5', '6', '7', '8', '9', '10') \n"
   ]
  },
  {
   "cell_type": "code",
   "execution_count": 37,
   "id": "8bfbd956",
   "metadata": {},
   "outputs": [],
   "source": [
    "a=[1, 2, 3, 4, 5, 6, 7, 8, 9, 10] "
   ]
  },
  {
   "cell_type": "code",
   "execution_count": 38,
   "id": "2aee14cd",
   "metadata": {},
   "outputs": [
    {
     "data": {
      "text/plain": [
       "('1', '2', '3', '4', '5', '6', '7', '8', '9', '10')"
      ]
     },
     "execution_count": 38,
     "metadata": {},
     "output_type": "execute_result"
    }
   ],
   "source": [
    "tuple(map(lambda x:str(x),a))"
   ]
  },
  {
   "cell_type": "code",
   "execution_count": null,
   "id": "d96b32fb",
   "metadata": {},
   "outputs": [],
   "source": [
    "Q4.  Write a python program using reduce function to compute the product of a list containing numbers  from 1 to 25. \n"
   ]
  },
  {
   "cell_type": "code",
   "execution_count": 45,
   "id": "f44a12ff",
   "metadata": {},
   "outputs": [],
   "source": [
    "from functools import reduce\n",
    "\n"
   ]
  },
  {
   "cell_type": "code",
   "execution_count": 50,
   "id": "723c2fd5",
   "metadata": {},
   "outputs": [],
   "source": [
    "l1=list(range(1,26))\n",
    "def pr(s,y):\n",
    "    return s*y\n",
    "reduce(pr,l1)"
   ]
  },
  {
   "cell_type": "code",
   "execution_count": 48,
   "id": "2726364f",
   "metadata": {},
   "outputs": [],
   "source": [
    "def pr(s,y):\n",
    "    return s*y"
   ]
  },
  {
   "cell_type": "code",
   "execution_count": 55,
   "id": "ac874867",
   "metadata": {},
   "outputs": [
    {
     "data": {
      "text/plain": [
       "15511210043330985984000000"
      ]
     },
     "execution_count": 55,
     "metadata": {},
     "output_type": "execute_result"
    }
   ],
   "source": [
    "reduce(pr,l1)"
   ]
  },
  {
   "cell_type": "code",
   "execution_count": null,
   "id": "68b6479f",
   "metadata": {},
   "outputs": [],
   "source": [
    "Q5. Write a python program to filter the numbers in a given list that are divisible by 2 and 3 using the  filter function. \n",
    "[2, 3, 6, 9, 27, 60, 90, 120, 55, 46] \n"
   ]
  },
  {
   "cell_type": "code",
   "execution_count": 59,
   "id": "203ecc42",
   "metadata": {},
   "outputs": [],
   "source": [
    "a=[2, 3, 6, 9, 27, 60, 90, 120, 55, 46] \n",
    "def sam(s):\n",
    "    if s%2 ==0 and s%3 ==0:\n",
    "        return s\n"
   ]
  },
  {
   "cell_type": "code",
   "execution_count": 60,
   "id": "9afcb3e4",
   "metadata": {},
   "outputs": [
    {
     "data": {
      "text/plain": [
       "[6, 60, 90, 120]"
      ]
     },
     "execution_count": 60,
     "metadata": {},
     "output_type": "execute_result"
    }
   ],
   "source": [
    "list(filter(sam,a))"
   ]
  },
  {
   "cell_type": "code",
   "execution_count": null,
   "id": "e6dd8c29",
   "metadata": {},
   "outputs": [],
   "source": [
    "\n",
    "Q6. Write a python program to find palindromes in the given list of strings using lambda and filter  function. \n",
    "['python', 'php', 'aba', 'radar', 'level'] "
   ]
  },
  {
   "cell_type": "code",
   "execution_count": 61,
   "id": "bce72c84",
   "metadata": {},
   "outputs": [],
   "source": [
    "a=['python', 'php', 'aba', 'radar', 'level'] \n"
   ]
  },
  {
   "cell_type": "code",
   "execution_count": 65,
   "id": "6089580c",
   "metadata": {},
   "outputs": [
    {
     "data": {
      "text/plain": [
       "['php', 'aba', 'radar', 'level']"
      ]
     },
     "execution_count": 65,
     "metadata": {},
     "output_type": "execute_result"
    }
   ],
   "source": [
    "list(filter(lambda x:x == x[::-1],a))"
   ]
  },
  {
   "cell_type": "code",
   "execution_count": null,
   "id": "d7699cac",
   "metadata": {},
   "outputs": [],
   "source": []
  }
 ],
 "metadata": {
  "kernelspec": {
   "display_name": "Python 3",
   "language": "python",
   "name": "python3"
  },
  "language_info": {
   "codemirror_mode": {
    "name": "ipython",
    "version": 3
   },
   "file_extension": ".py",
   "mimetype": "text/x-python",
   "name": "python",
   "nbconvert_exporter": "python",
   "pygments_lexer": "ipython3",
   "version": "3.9.7"
  }
 },
 "nbformat": 4,
 "nbformat_minor": 5
}
